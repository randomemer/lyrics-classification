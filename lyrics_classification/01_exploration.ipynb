{
 "cells": [
  {
   "cell_type": "code",
   "execution_count": 26,
   "metadata": {},
   "outputs": [],
   "source": [
    "import pandas as pd\n",
    "import matplotlib.pyplot as plt"
   ]
  },
  {
   "cell_type": "code",
   "execution_count": 11,
   "metadata": {},
   "outputs": [],
   "source": [
    "# Source : https://www.kaggle.com/datasets/nikhilnayak123/5-million-song-lyrics-dataset/data\n",
    "df = pd.read_csv(\"./datasets/ds2.csv\")"
   ]
  },
  {
   "cell_type": "code",
   "execution_count": 12,
   "metadata": {},
   "outputs": [
    {
     "name": "stdout",
     "output_type": "stream",
     "text": [
      "<class 'pandas.core.frame.DataFrame'>\n",
      "RangeIndex: 5913411 entries, 0 to 5913410\n",
      "Data columns (total 8 columns):\n",
      " #   Column    Dtype \n",
      "---  ------    ----- \n",
      " 0   title     object\n",
      " 1   tag       object\n",
      " 2   artist    object\n",
      " 3   year      int64 \n",
      " 4   views     int64 \n",
      " 5   features  object\n",
      " 6   lyrics    object\n",
      " 7   id        int64 \n",
      "dtypes: int64(3), object(5)\n",
      "memory usage: 360.9+ MB\n"
     ]
    }
   ],
   "source": [
    "df.info()"
   ]
  },
  {
   "cell_type": "code",
   "execution_count": 13,
   "metadata": {},
   "outputs": [
    {
     "data": {
      "text/html": [
       "<div>\n",
       "<style scoped>\n",
       "    .dataframe tbody tr th:only-of-type {\n",
       "        vertical-align: middle;\n",
       "    }\n",
       "\n",
       "    .dataframe tbody tr th {\n",
       "        vertical-align: top;\n",
       "    }\n",
       "\n",
       "    .dataframe thead th {\n",
       "        text-align: right;\n",
       "    }\n",
       "</style>\n",
       "<table border=\"1\" class=\"dataframe\">\n",
       "  <thead>\n",
       "    <tr style=\"text-align: right;\">\n",
       "      <th></th>\n",
       "      <th>title</th>\n",
       "      <th>tag</th>\n",
       "      <th>artist</th>\n",
       "      <th>year</th>\n",
       "      <th>views</th>\n",
       "      <th>features</th>\n",
       "      <th>lyrics</th>\n",
       "      <th>id</th>\n",
       "    </tr>\n",
       "  </thead>\n",
       "  <tbody>\n",
       "    <tr>\n",
       "      <th>0</th>\n",
       "      <td>Killa Cam</td>\n",
       "      <td>rap</td>\n",
       "      <td>Cam'ron</td>\n",
       "      <td>2004</td>\n",
       "      <td>173166</td>\n",
       "      <td>{\"Cam\\\\'ron\",\"Opera Steve\"}</td>\n",
       "      <td>[Chorus: Opera Steve &amp; Cam'ron]\\nKilla Cam, Ki...</td>\n",
       "      <td>1</td>\n",
       "    </tr>\n",
       "    <tr>\n",
       "      <th>1</th>\n",
       "      <td>Can I Live</td>\n",
       "      <td>rap</td>\n",
       "      <td>JAY-Z</td>\n",
       "      <td>1996</td>\n",
       "      <td>468624</td>\n",
       "      <td>{}</td>\n",
       "      <td>[Produced by Irv Gotti]\\n\\n[Intro]\\nYeah, hah,...</td>\n",
       "      <td>3</td>\n",
       "    </tr>\n",
       "    <tr>\n",
       "      <th>2</th>\n",
       "      <td>Forgive Me Father</td>\n",
       "      <td>rap</td>\n",
       "      <td>Fabolous</td>\n",
       "      <td>2003</td>\n",
       "      <td>4743</td>\n",
       "      <td>{}</td>\n",
       "      <td>Maybe cause I'm eatin\\nAnd these bastards fien...</td>\n",
       "      <td>4</td>\n",
       "    </tr>\n",
       "    <tr>\n",
       "      <th>3</th>\n",
       "      <td>Down and Out</td>\n",
       "      <td>rap</td>\n",
       "      <td>Cam'ron</td>\n",
       "      <td>2004</td>\n",
       "      <td>144404</td>\n",
       "      <td>{\"Cam\\\\'ron\",\"Kanye West\",\"Syleena Johnson\"}</td>\n",
       "      <td>[Produced by Kanye West and Brian Miller]\\n\\n[...</td>\n",
       "      <td>5</td>\n",
       "    </tr>\n",
       "    <tr>\n",
       "      <th>4</th>\n",
       "      <td>Fly In</td>\n",
       "      <td>rap</td>\n",
       "      <td>Lil Wayne</td>\n",
       "      <td>2005</td>\n",
       "      <td>78271</td>\n",
       "      <td>{}</td>\n",
       "      <td>[Intro]\\nSo they ask me\\n\"Young boy\\nWhat you ...</td>\n",
       "      <td>6</td>\n",
       "    </tr>\n",
       "  </tbody>\n",
       "</table>\n",
       "</div>"
      ],
      "text/plain": [
       "               title  tag     artist  year   views  \\\n",
       "0          Killa Cam  rap    Cam'ron  2004  173166   \n",
       "1         Can I Live  rap      JAY-Z  1996  468624   \n",
       "2  Forgive Me Father  rap   Fabolous  2003    4743   \n",
       "3       Down and Out  rap    Cam'ron  2004  144404   \n",
       "4             Fly In  rap  Lil Wayne  2005   78271   \n",
       "\n",
       "                                       features  \\\n",
       "0                   {\"Cam\\\\'ron\",\"Opera Steve\"}   \n",
       "1                                            {}   \n",
       "2                                            {}   \n",
       "3  {\"Cam\\\\'ron\",\"Kanye West\",\"Syleena Johnson\"}   \n",
       "4                                            {}   \n",
       "\n",
       "                                              lyrics  id  \n",
       "0  [Chorus: Opera Steve & Cam'ron]\\nKilla Cam, Ki...   1  \n",
       "1  [Produced by Irv Gotti]\\n\\n[Intro]\\nYeah, hah,...   3  \n",
       "2  Maybe cause I'm eatin\\nAnd these bastards fien...   4  \n",
       "3  [Produced by Kanye West and Brian Miller]\\n\\n[...   5  \n",
       "4  [Intro]\\nSo they ask me\\n\"Young boy\\nWhat you ...   6  "
      ]
     },
     "execution_count": 13,
     "metadata": {},
     "output_type": "execute_result"
    }
   ],
   "source": [
    "df.head()"
   ]
  },
  {
   "cell_type": "code",
   "execution_count": 25,
   "metadata": {},
   "outputs": [
    {
     "data": {
      "text/html": [
       "<div>\n",
       "<style scoped>\n",
       "    .dataframe tbody tr th:only-of-type {\n",
       "        vertical-align: middle;\n",
       "    }\n",
       "\n",
       "    .dataframe tbody tr th {\n",
       "        vertical-align: top;\n",
       "    }\n",
       "\n",
       "    .dataframe thead th {\n",
       "        text-align: right;\n",
       "    }\n",
       "</style>\n",
       "<table border=\"1\" class=\"dataframe\">\n",
       "  <thead>\n",
       "    <tr style=\"text-align: right;\">\n",
       "      <th></th>\n",
       "      <th>year</th>\n",
       "      <th>views</th>\n",
       "      <th>id</th>\n",
       "    </tr>\n",
       "  </thead>\n",
       "  <tbody>\n",
       "    <tr>\n",
       "      <th>count</th>\n",
       "      <td>5.913411e+06</td>\n",
       "      <td>5.913411e+06</td>\n",
       "      <td>5.913411e+06</td>\n",
       "    </tr>\n",
       "    <tr>\n",
       "      <th>mean</th>\n",
       "      <td>2.010663e+03</td>\n",
       "      <td>2.670159e+03</td>\n",
       "      <td>4.028247e+06</td>\n",
       "    </tr>\n",
       "    <tr>\n",
       "      <th>std</th>\n",
       "      <td>4.430131e+01</td>\n",
       "      <td>4.409858e+04</td>\n",
       "      <td>2.296420e+06</td>\n",
       "    </tr>\n",
       "    <tr>\n",
       "      <th>min</th>\n",
       "      <td>1.000000e+00</td>\n",
       "      <td>0.000000e+00</td>\n",
       "      <td>1.000000e+00</td>\n",
       "    </tr>\n",
       "    <tr>\n",
       "      <th>25%</th>\n",
       "      <td>2.010000e+03</td>\n",
       "      <td>1.600000e+01</td>\n",
       "      <td>1.821168e+06</td>\n",
       "    </tr>\n",
       "    <tr>\n",
       "      <th>50%</th>\n",
       "      <td>2.016000e+03</td>\n",
       "      <td>6.400000e+01</td>\n",
       "      <td>4.161274e+06</td>\n",
       "    </tr>\n",
       "    <tr>\n",
       "      <th>75%</th>\n",
       "      <td>2.019000e+03</td>\n",
       "      <td>3.490000e+02</td>\n",
       "      <td>6.007914e+06</td>\n",
       "    </tr>\n",
       "    <tr>\n",
       "      <th>max</th>\n",
       "      <td>2.100000e+03</td>\n",
       "      <td>2.335142e+07</td>\n",
       "      <td>7.882849e+06</td>\n",
       "    </tr>\n",
       "  </tbody>\n",
       "</table>\n",
       "</div>"
      ],
      "text/plain": [
       "               year         views            id\n",
       "count  5.913411e+06  5.913411e+06  5.913411e+06\n",
       "mean   2.010663e+03  2.670159e+03  4.028247e+06\n",
       "std    4.430131e+01  4.409858e+04  2.296420e+06\n",
       "min    1.000000e+00  0.000000e+00  1.000000e+00\n",
       "25%    2.010000e+03  1.600000e+01  1.821168e+06\n",
       "50%    2.016000e+03  6.400000e+01  4.161274e+06\n",
       "75%    2.019000e+03  3.490000e+02  6.007914e+06\n",
       "max    2.100000e+03  2.335142e+07  7.882849e+06"
      ]
     },
     "execution_count": 25,
     "metadata": {},
     "output_type": "execute_result"
    }
   ],
   "source": [
    "df.describe()"
   ]
  },
  {
   "cell_type": "code",
   "execution_count": 24,
   "metadata": {},
   "outputs": [
    {
     "name": "stdout",
     "output_type": "stream",
     "text": [
      "tag\n",
      "pop        2519256\n",
      "rap        1962010\n",
      "rock        892220\n",
      "rb          225342\n",
      "misc        208714\n",
      "country     105869\n",
      "Name: count, dtype: int64\n"
     ]
    },
    {
     "data": {
      "text/plain": [
       "<Axes: ylabel='count'>"
      ]
     },
     "execution_count": 24,
     "metadata": {},
     "output_type": "execute_result"
    },
    {
     "data": {
      "image/png": "[encoded data removed]",
      "text/plain": [
       "<Figure size 640x480 with 1 Axes>"
      ]
     },
     "metadata": {},
     "output_type": "display_data"
    }
   ],
   "source": [
    "counts = df[\"tag\"].value_counts()\n",
    "\n",
    "print(counts)\n",
    "counts.plot(kind=\"pie\")"
   ]
  },
  {
   "cell_type": "code",
   "execution_count": 16,
   "metadata": {},
   "outputs": [
    {
     "name": "stdout",
     "output_type": "stream",
     "text": [
      "[Chorus: Opera Steve & Cam'ron]\n",
      "Killa Cam, Killa Cam, Cam\n",
      "Killa Cam, Killa Cam\n",
      "Killa Cam, Cam\n",
      "Killa Cam, Killa Cam, Cam\n",
      "Killa Killa Killa Cam\n",
      "Killa Cam, Cam, Killa (Killa!)\n",
      "Killa Cam, Killa Cam, Cam (Bases loaded)\n",
      "Killa Cam, Killa Cam (Uh-huh)\n",
      "Killa Cam, Cam (Santana on second, Jim on third)\n",
      "Killa Cam, Killa Cam, Cam (I'm at bat)\n",
      "Killa Killa Killa Cam\n",
      "Killa Cam, Cam, Killa (I'm 'bout to hit this shit out the world)\n",
      "Killa Cam (Ugh, Heatmakerz), Killa Cam, Cam\n",
      "Killa Cam, Killa Cam\n",
      "Killa Cam, Cam (Hahahaha)\n",
      "Killa Cam, Killa Cam, Cam\n",
      "Killa Killa Killa Cam\n",
      "Killa Cam, Cam, Killa (We  make this shit clap)\n",
      "Killa Cam, Killa Cam, Cam\n",
      "Killa Cam, Killa Cam\n",
      "Killa Cam, Cam\n",
      "Killa Cam, Killa Cam, Cam\n",
      "Killa Killa Killa Cam (Killa! Killa!)\n",
      "Killa Cam, Cam, Killa\n",
      "[Verse 1]\n",
      "With the goons I spar, stay in tune with ma (What up?)\n",
      "She like, \"Damn, this the realest since 'Kumbaya'\"\n",
      "Bomaye, Killa Cam, my Lord (My Lord)\n",
      "Still the man with the pan, scrilla, fam, on board\n",
      "Now bitches, they want to neuter me, niggas, they want to tutor me\n",
      "The hooligan in Houlihan's, maneuvering's nothing new to me\n",
      "Doggy, I'm from the land of grind, pan-pan: gram or dime?\n",
      "Not toes or MC when I say \"hammer time\"\n",
      "Beef: I hammer mine, when I get my hands on nines\n",
      "If I had on 'Bama line, Corduroys, Cam'll shine\n",
      "Canary burgundy: I call it \"Lemon Red\" (Red)\n",
      "Yellow diamonds in my ear, call 'em \"Lemonheads\"\n",
      "Lemonhead, end up dead, ice like Winnipeg\n",
      "Gemstone, Flintstones, you could say I'm friends with Fred\n",
      "You unhappy, scrappy? (What's going on, Scrappy?)\n",
      "I got Pataki at me\n",
      "Bitches say I'm \"Tacky Daddy,\" Range look like Laffy Taffy\n",
      "\n",
      "[Chorus]\n",
      "Killa Cam\n",
      "Killa Cam Cam (sing)\n",
      "Killa Cam Killa Cam\n",
      "Killa Cam Cam (uhh, it's me, clap)\n",
      "Killa Cam\n",
      "Killa Cam Cam\n",
      "Killa Killa Killa Cam (sing)\n",
      "Killa Cam Cam Killa (uhh, it's me, clap)\n",
      "Killa Cam\n",
      "Killa Cam Cam (sing)\n",
      "Killa Cam Killa Cam\n",
      "Killa Cam Cam (clap, it's me)\n",
      "Killa Cam\n",
      "Killa Cam Cam\n",
      "Killa Killa Killa Cam (clap)\n",
      "(Harlem, I know y'all know about this)\n",
      "Killa Cam Cam Killa (Killa!)\n",
      "[Verse 2]\n",
      "Yo, I'm from where Nicky Barnes got rich as fuck\n",
      "Rich and A hit the kitchens then were pitchin' up\n",
      "Rob Base, Mase, Doug E Fresh switched it up\n",
      "I do both, who am I to fuck tradition up? (Killa!)\n",
      "So I parked in a tow-away zone\n",
      "Chrome...I don't care\n",
      "That car a throwaway, homes (Killa!)\n",
      "Welcome to Harlem, where you welcome to problems\n",
      "Off of furlough, fellow felons get pardons\n",
      "Them niggas knew we bang\n",
      "Stood out like Pootie Tang\n",
      "Soon as the stoolie sings\n",
      "That when the toolie sing!\n",
      "Bang! Bang!\n",
      "Came from that movie ring\n",
      "Snap, crack jewelry bling\n",
      "Flapjack, ooh he bring\n",
      "Clack-clack, \"ooh he ring!\"\n",
      "Bad rap, cuties cling\n",
      "Ass cap, put them in the river\n",
      "I'm the sushi king\n",
      "And I'ma keep ya fresh\n",
      "Let the fish eat ya flesh\n",
      "Yes sir, please confess\n",
      "Just say he's the best (Killa!)\n",
      "[Chorus]\n",
      "Killa Cam (sing)\n",
      "Killa Cam Cam (clap)\n",
      "Killa Cam Killa Cam (yes)\n",
      "Killa Cam Cam (it's me, sing)\n",
      "Killa Cam\n",
      "Killa Cam Cam (sing)\n",
      "Killa Killa Killa Cam\n",
      "Killa Cam Cam Killa  (clap, yes sir, uhh)\n",
      "Killa Cam\n",
      "Killa Cam Cam (sing, clap)\n",
      "Killa Cam Killa Cam\n",
      "Killa Cam Cam (it's me)\n",
      "Killa Cam (sing, clap)\n",
      "Killa Cam Cam\n",
      "Killa Killa Killa Cam\n",
      "(Let me end this shit, listen)\n",
      "Killa Cam Cam Killa\n",
      "\n",
      "[Verse 3]\n",
      "(Killa!) Yo\n",
      "How dope is this?\n",
      "Teach you how to rope a chick\n",
      "What you want: coke or piff?\n",
      "Got it all, smoke or sniff? (everything)\n",
      "And you know my drift\n",
      "Used to figures, dough and shit (millions)\n",
      "You a rooster nigga, just a roaster, bitch\n",
      "And I roast ya bitch\n",
      "That's how it usually ends\n",
      "Tell her and her groupie friends\n",
      "Go get their coochie cleansed\n",
      "We the moody Gucci, Louis and Pucci men\n",
      "Escada, Prada\n",
      "The chopper it got the Uzi lens\n",
      "Bird's-eye view\n",
      "The birds I knew flip birds\n",
      "Bird gangs, it was birds I flew\n",
      "And word I blew off herb I grew\n",
      "I would serve on stoops\n",
      "Now swerve in coupes\n",
      "It's me, sing! Killa, uhh\n",
      "\n",
      "[Chorus]\n",
      "Killa Cam\n",
      "Killa Cam Cam\n",
      "Killa Cam Killa Cam\n",
      "Killa Cam Cam\n",
      "Killa Cam\n",
      "Killa Cam Cam\n",
      "Killa Killa Killa Cam\n",
      "Killa Cam Cam Killa\n",
      "Killa Cam\n",
      "Killa Cam Cam\n",
      "Killa Cam Killa Cam\n",
      "Killa Cam Cam\n",
      "Killa Cam\n",
      "Killa Cam Cam\n",
      "Killa Killa Killa Cam\n",
      "Killa Cam Cam Killa\n"
     ]
    }
   ],
   "source": [
    "print(df[\"lyrics\"][0])"
   ]
  },
  {
   "cell_type": "code",
   "execution_count": 28,
   "metadata": {},
   "outputs": [
    {
     "data": {
      "text/plain": [
       "artist\n",
       "Drake                          290434844\n",
       "Eminem                         200170195\n",
       "Kanye West                     166267051\n",
       "Genius English Translations    166265508\n",
       "Kendrick Lamar                 148741009\n",
       "Genius Romanizations           130643627\n",
       "The Weeknd                     119043350\n",
       "Taylor Swift                    99268785\n",
       "J. Cole                         95548431\n",
       "XXXTENTACION                    91359120\n",
       "Ariana Grande                   74378124\n",
       "Travis Scott                    67535202\n",
       "Lil Wayne                       65693204\n",
       "JAY-Z                           64068238\n",
       "Frank Ocean                     63026391\n",
       "Beyonc                          59865053\n",
       "Tyler, The Creator              57134446\n",
       "Juice WRLD                      56353231\n",
       "Ed Sheeran                      55327700\n",
       "Billie Eilish                   55038393\n",
       "Nicki Minaj                     53063904\n",
       "Logic                           52559185\n",
       "Post Malone                     50591869\n",
       "Future                          50418471\n",
       "Childish Gambino                49114462\n",
       "Lana Del Rey                    49024837\n",
       "A$AP Rocky                      48255699\n",
       "Lil Uzi Vert                    47850819\n",
       "Cardi B                         43127601\n",
       "2Pac                            42151972\n",
       "Migos                           41185675\n",
       "Meek Mill                       39771947\n",
       "Big Sean                        39745631\n",
       "Mac Miller                      38850237\n",
       "Young Thug                      37111293\n",
       "BTS                             36999014\n",
       "Rihanna                         36824075\n",
       "$UICIDEBOY$                     36499613\n",
       "Lil Peep                        36374808\n",
       "Chris Brown                     36249099\n",
       "twenty one pilots               35168360\n",
       "Justin Bieber                   34157620\n",
       "Chance the Rapper               33967350\n",
       "YoungBoy Never Broke Again      33327749\n",
       "DJ Khaled                       33172875\n",
       "Chief Keef                      28838866\n",
       "Booba                           28667207\n",
       "The Beatles                     27499823\n",
       "PNL                             27059012\n",
       "The Notorious B.I.G.            26987386\n",
       "Name: views, dtype: int64"
      ]
     },
     "execution_count": 28,
     "metadata": {},
     "output_type": "execute_result"
    }
   ],
   "source": [
    "df.groupby('artist')['views'].sum().sort_values(ascending=False).head(50)"
   ]
  },
  {
   "cell_type": "code",
   "execution_count": 29,
   "metadata": {},
   "outputs": [
    {
     "data": {
      "image/png": "[encoded data removed]",
      "text/plain": [
       "<Figure size 640x480 with 1 Axes>"
      ]
     },
     "metadata": {},
     "output_type": "display_data"
    }
   ],
   "source": [
    "import matplotlib.pyplot as plt\n",
    "\n",
    "# Histogram of views\n",
    "plt.hist(df['views'], bins=50, edgecolor='k')\n",
    "plt.title('Distribution of Views')\n",
    "plt.xlabel('Views')\n",
    "plt.ylabel('Frequency')\n",
    "plt.show()"
   ]
  },
  {
   "cell_type": "code",
   "execution_count": 30,
   "metadata": {},
   "outputs": [
    {
     "data": {
      "text/plain": [
       "<Axes: ylabel='Density'>"
      ]
     },
     "execution_count": 30,
     "metadata": {},
     "output_type": "execute_result"
    },
    {
     "data": {
      "image/png": "[encoded data removed]",
      "text/plain": [
       "<Figure size 640x480 with 1 Axes>"
      ]
     },
     "metadata": {},
     "output_type": "display_data"
    }
   ],
   "source": [
    "df[\"year\"].plot(kind=\"density\")"
   ]
  }
 ],
 "metadata": {
  "kernelspec": {
   "display_name": "lyrics-classification-fZf-oRnz-py3.11",
   "language": "python",
   "name": "python3"
  },
  "language_info": {
   "codemirror_mode": {
    "name": "ipython",
    "version": 3
   },
   "file_extension": ".py",
   "mimetype": "text/x-python",
   "name": "python",
   "nbconvert_exporter": "python",
   "pygments_lexer": "ipython3",
   "version": "3.11.4"
  }
 },
 "nbformat": 4,
 "nbformat_minor": 2
}
