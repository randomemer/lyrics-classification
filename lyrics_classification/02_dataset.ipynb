{
  "cells": [
    {
      "cell_type": "markdown",
      "metadata": {},
      "source": [
        "# Dataset Preperation"
      ]
    },
    {
      "cell_type": "code",
      "execution_count": 1,
      "metadata": {
        "id": "Sm2Sygj9oQdC"
      },
      "outputs": [],
      "source": [
        "import pandas as pd\n",
        "import numpy as np\n",
        "import nltk"
      ]
    },
    {
      "cell_type": "code",
      "execution_count": 2,
      "metadata": {},
      "outputs": [
        {
          "name": "stderr",
          "output_type": "stream",
          "text": [
            "[nltk_data] Downloading package punkt to C:\\Users\\SHASHANK\n",
            "[nltk_data]     P\\AppData\\Roaming\\nltk_data...\n",
            "[nltk_data]   Package punkt is already up-to-date!\n",
            "[nltk_data] Downloading package stopwords to C:\\Users\\SHASHANK\n",
            "[nltk_data]     P\\AppData\\Roaming\\nltk_data...\n",
            "[nltk_data]   Package stopwords is already up-to-date!\n"
          ]
        },
        {
          "data": {
            "text/plain": [
              "True"
            ]
          },
          "execution_count": 2,
          "metadata": {},
          "output_type": "execute_result"
        }
      ],
      "source": [
        "nltk.download(\"punkt\")\n",
        "nltk.download(\"stopwords\")"
      ]
    },
    {
      "cell_type": "markdown",
      "metadata": {},
      "source": [
        "## Loading Data"
      ]
    },
    {
      "cell_type": "code",
      "execution_count": 3,
      "metadata": {},
      "outputs": [],
      "source": [
        "# Get 50,000 records of each tag\n",
        "tags = set([\"pop\", \"rap\", \"rock\", \"misc\", \"rb\", \"country\"])"
      ]
    },
    {
      "cell_type": "code",
      "execution_count": 4,
      "metadata": {},
      "outputs": [],
      "source": [
        "SAMPLES_PER_CLASS = 5000"
      ]
    },
    {
      "cell_type": "code",
      "execution_count": 5,
      "metadata": {
        "id": "vNzJ_p44rtnB"
      },
      "outputs": [
        {
          "name": "stdout",
          "output_type": "stream",
          "text": [
            "Chunk [0] : Processing...\n",
            "Chunk [0] : {'misc': 3437, 'rb': 1517, 'rap': 5000, 'pop': 1676, 'rock': 4466, 'country': 220}\n",
            "\n",
            "Chunk [1] : Processing...\n",
            "Chunk [1] : {'misc': 5000, 'rb': 2427, 'rap': 5000, 'pop': 5000, 'rock': 5000, 'country': 3280}\n",
            "\n",
            "Chunk [2] : Processing...\n",
            "Chunk [2] : {'misc': 5000, 'rb': 3757, 'rap': 5000, 'pop': 5000, 'rock': 5000, 'country': 5000}\n",
            "\n",
            "Chunk [3] : Processing...\n",
            "\n",
            "Processed\n"
          ]
        }
      ],
      "source": [
        "from collections import defaultdict\n",
        "\n",
        "i = 0\n",
        "counter = defaultdict(int)\n",
        "sampled_df = pd.DataFrame()\n",
        "\n",
        "for chunk in pd.read_csv('./datasets/ds2.csv', chunksize=100_000):\n",
        "    print(f\"Chunk [{i}] : Processing...\")\n",
        "    for tag in tags:\n",
        "        count = counter[tag]\n",
        "\n",
        "        if count == SAMPLES_PER_CLASS:\n",
        "            continue\n",
        "        else:\n",
        "            remaining = SAMPLES_PER_CLASS - count\n",
        "            filtered_chunk: pd.DataFrame = chunk[chunk[\"tag\"] == tag]\n",
        "\n",
        "            sample_size = min(len(filtered_chunk), remaining)\n",
        "            sampled_chunk = filtered_chunk.sample(n=sample_size, random_state=42)\n",
        "\n",
        "            sampled_df = pd.concat([sampled_df, sampled_chunk])\n",
        "            count = len(sampled_chunk)\n",
        "            counter[tag] += count\n",
        "\n",
        "\n",
        "    # Check when have 50k records\n",
        "    print(f\"Chunk [{i}] :\", dict(counter), end=\"\\n\\n\")\n",
        "    \n",
        "    bools = [val == SAMPLES_PER_CLASS for val in counter.values()]\n",
        "    if all(bools):\n",
        "        print(\"\\nProcessed\")\n",
        "        break\n",
        "\n",
        "    i += 1"
      ]
    },
    {
      "cell_type": "code",
      "execution_count": 6,
      "metadata": {},
      "outputs": [
        {
          "name": "stdout",
          "output_type": "stream",
          "text": [
            "<class 'pandas.core.frame.DataFrame'>\n",
            "Index: 30000 entries, 87256 to 384558\n",
            "Data columns (total 8 columns):\n",
            " #   Column    Non-Null Count  Dtype \n",
            "---  ------    --------------  ----- \n",
            " 0   title     29998 non-null  object\n",
            " 1   tag       30000 non-null  object\n",
            " 2   artist    30000 non-null  object\n",
            " 3   year      30000 non-null  int64 \n",
            " 4   views     30000 non-null  int64 \n",
            " 5   features  30000 non-null  object\n",
            " 6   lyrics    30000 non-null  object\n",
            " 7   id        30000 non-null  int64 \n",
            "dtypes: int64(3), object(5)\n",
            "memory usage: 2.1+ MB\n"
          ]
        }
      ],
      "source": [
        "sampled_df.info()"
      ]
    },
    {
      "cell_type": "code",
      "execution_count": 8,
      "metadata": {},
      "outputs": [],
      "source": [
        "sampled_df.to_pickle(\"./pickles/01_sampled_df.pkl\")"
      ]
    },
    {
      "cell_type": "markdown",
      "metadata": {},
      "source": [
        "## Remove null rows"
      ]
    },
    {
      "cell_type": "code",
      "execution_count": 9,
      "metadata": {},
      "outputs": [],
      "source": [
        "df = pd.read_pickle(\"./pickles/01_sampled_df.pkl\")"
      ]
    },
    {
      "cell_type": "code",
      "execution_count": 10,
      "metadata": {},
      "outputs": [],
      "source": [
        "def clean_df(df: pd.DataFrame):\n",
        "    df.dropna(inplace=True)"
      ]
    },
    {
      "cell_type": "code",
      "execution_count": 11,
      "metadata": {},
      "outputs": [],
      "source": [
        "clean_df(df)"
      ]
    },
    {
      "cell_type": "code",
      "execution_count": 12,
      "metadata": {},
      "outputs": [
        {
          "data": {
            "text/plain": [
              "tag\n",
              "rb         5000\n",
              "rap        5000\n",
              "pop        5000\n",
              "country    5000\n",
              "misc       4999\n",
              "rock       4999\n",
              "Name: count, dtype: int64"
            ]
          },
          "execution_count": 12,
          "metadata": {},
          "output_type": "execute_result"
        }
      ],
      "source": [
        "df[\"tag\"].value_counts()"
      ]
    },
    {
      "cell_type": "code",
      "execution_count": 13,
      "metadata": {},
      "outputs": [
        {
          "name": "stdout",
          "output_type": "stream",
          "text": [
            "<class 'pandas.core.frame.DataFrame'>\n",
            "Index: 29998 entries, 87256 to 384558\n",
            "Data columns (total 8 columns):\n",
            " #   Column    Non-Null Count  Dtype \n",
            "---  ------    --------------  ----- \n",
            " 0   title     29998 non-null  object\n",
            " 1   tag       29998 non-null  object\n",
            " 2   artist    29998 non-null  object\n",
            " 3   year      29998 non-null  int64 \n",
            " 4   views     29998 non-null  int64 \n",
            " 5   features  29998 non-null  object\n",
            " 6   lyrics    29998 non-null  object\n",
            " 7   id        29998 non-null  int64 \n",
            "dtypes: int64(3), object(5)\n",
            "memory usage: 2.1+ MB\n"
          ]
        }
      ],
      "source": [
        "df.info()"
      ]
    },
    {
      "cell_type": "markdown",
      "metadata": {},
      "source": [
        "## Text Cleaning"
      ]
    },
    {
      "cell_type": "code",
      "execution_count": 19,
      "metadata": {},
      "outputs": [
        {
          "name": "stdout",
          "output_type": "stream",
          "text": [
            "(You...)\n",
            "\n",
            "[Verse 1]\n",
            "Thought it was love; memories sculpt the lies\n",
            "That, lead me far from here (here... from here)\n",
            "Trying hard to silence all you say but\n",
            "You stay in my ear (you stay in my ear)\n",
            "Because everything you didn't want,\n",
            "Became a part of me.\n",
            "All the things you'd asked for,\n",
            "I just could not see\n",
            "Everything you are... (everything you are)\n",
            "Everything you are, left a broken heartbeat\n",
            "\n",
            "[Hook]\n",
            "Through the darkest shades of grey\n",
            "I see beauty in the rain\n",
            "'Nd I find myself (hold me tears are blinding my eyes)\n",
            "Let me find myself (go free and walk alone in the night)\n",
            "Through the darkest shades of grey\n",
            "I see beauty in the rain...\n",
            "(Heart stops on the ground where I'm lying\n",
            "Called out to a stranger and I\n",
            "But it was you... you...)\n",
            "(Everything you didn't want became a part of me)\n",
            "\n",
            "[Verse 2]\n",
            "Sleeping alone I cried out, for you in my dream...\n",
            "No matter how hard I try to change you;\n",
            "You won't change with me\n",
            "Because everything you didn't want\n",
            "Became a part of me\n",
            "All the things you'd asked for\n",
            "I just could not see\n",
            "Everything you are... everything you are\n",
            "Everything you are, left a broken heartbeat\n",
            "\n",
            "[Hook]\n",
            "Through the darkest shades of grey\n",
            "I see beauty in the rain\n",
            "And I find myself (hold me tears are blinding my eyes)\n",
            "Let me find myself (go free and walk alone in the night)\n",
            "Through the darkest shades of grey\n",
            "I see beauty in the rain...\n",
            "(Heart stops on the ground where I'm lying\n",
            "Called out to a stranger and I...)\n",
            "\n",
            "[Refrain]\n",
            "So let me run away, run away now\n",
            "I got to run away, run away now\n",
            "I'm gonna run away, run away now\n",
            "So let me run away, run away now\n",
            "Watch me run away, run away now\n",
            "I got to run away, run away now\n",
            "I'm gonna run away, run away now\n",
            "So watch me run away, run away now\n",
            "[Hook]\n"
          ]
        }
      ],
      "source": [
        "df.reset_index(inplace=True, drop=True)\n",
        "print(df[\"lyrics\"][0])"
      ]
    },
    {
      "cell_type": "code",
      "execution_count": 20,
      "metadata": {
        "id": "ARJ4EuQ0vdSA"
      },
      "outputs": [],
      "source": [
        "import re\n",
        "\n",
        "def clean_text(text: str) -> str:\n",
        "    text = text.lower()\n",
        "\n",
        "    text = re.sub(r\"\\[.*?\\]\", \"\", text) # Remove text between square brackets\n",
        "    text = re.sub(r\"[^\\w\\s]\", \" \", text)  # Remove punctuations\n",
        "    text = re.sub(r\"\\d+\", \"\", text)  # Remove numbers\n",
        "    \n",
        "    text = text.strip()\n",
        "    return text"
      ]
    },
    {
      "cell_type": "code",
      "execution_count": 21,
      "metadata": {},
      "outputs": [],
      "source": [
        "df[\"lyrics\"] = df[\"lyrics\"].apply(clean_text)"
      ]
    },
    {
      "cell_type": "code",
      "execution_count": 22,
      "metadata": {},
      "outputs": [
        {
          "name": "stdout",
          "output_type": "stream",
          "text": [
            "you    \n",
            "\n",
            "\n",
            "thought it was love  memories sculpt the lies\n",
            "that  lead me far from here  here    from here \n",
            "trying hard to silence all you say but\n",
            "you stay in my ear  you stay in my ear \n",
            "because everything you didn t want \n",
            "became a part of me \n",
            "all the things you d asked for \n",
            "i just could not see\n",
            "everything you are     everything you are \n",
            "everything you are  left a broken heartbeat\n",
            "\n",
            "\n",
            "through the darkest shades of grey\n",
            "i see beauty in the rain\n",
            " nd i find myself  hold me tears are blinding my eyes \n",
            "let me find myself  go free and walk alone in the night \n",
            "through the darkest shades of grey\n",
            "i see beauty in the rain   \n",
            " heart stops on the ground where i m lying\n",
            "called out to a stranger and i\n",
            "but it was you    you    \n",
            " everything you didn t want became a part of me \n",
            "\n",
            "\n",
            "sleeping alone i cried out  for you in my dream   \n",
            "no matter how hard i try to change you \n",
            "you won t change with me\n",
            "because everything you didn t want\n",
            "became a part of me\n",
            "all the things you d asked for\n",
            "i just could not see\n",
            "everything you are    everything you are\n",
            "everything you are  left a broken heartbeat\n",
            "\n",
            "\n",
            "through the darkest shades of grey\n",
            "i see beauty in the rain\n",
            "and i find myself  hold me tears are blinding my eyes \n",
            "let me find myself  go free and walk alone in the night \n",
            "through the darkest shades of grey\n",
            "i see beauty in the rain   \n",
            " heart stops on the ground where i m lying\n",
            "called out to a stranger and i    \n",
            "\n",
            "\n",
            "so let me run away  run away now\n",
            "i got to run away  run away now\n",
            "i m gonna run away  run away now\n",
            "so let me run away  run away now\n",
            "watch me run away  run away now\n",
            "i got to run away  run away now\n",
            "i m gonna run away  run away now\n",
            "so watch me run away  run away now\n"
          ]
        }
      ],
      "source": [
        "print(df[\"lyrics\"][0])"
      ]
    },
    {
      "cell_type": "code",
      "execution_count": 23,
      "metadata": {},
      "outputs": [],
      "source": [
        "df.to_pickle(\"./pickles/02_cleaned_lyrics_df.pkl\")"
      ]
    },
    {
      "cell_type": "markdown",
      "metadata": {},
      "source": [
        "### Tokenization"
      ]
    },
    {
      "cell_type": "code",
      "execution_count": 24,
      "metadata": {},
      "outputs": [],
      "source": [
        "df = pd.read_pickle(\"./pickles/02_cleaned_lyrics_df.pkl\")"
      ]
    },
    {
      "cell_type": "code",
      "execution_count": 25,
      "metadata": {},
      "outputs": [],
      "source": [
        "from nltk.tokenize import word_tokenize\n",
        "from nltk.corpus import stopwords\n",
        "from typing import List\n",
        "\n",
        "stop_words = set(stopwords.words(\"english\"))\n",
        "\n",
        "def tokenize_lyrics(text: str) -> List[str]:\n",
        "    tokens = word_tokenize(text)\n",
        "\n",
        "    return [token for token in tokens if token not in stop_words]"
      ]
    },
    {
      "cell_type": "code",
      "execution_count": 26,
      "metadata": {},
      "outputs": [],
      "source": [
        "df[\"lyrics\"] = df[\"lyrics\"].apply(tokenize_lyrics)"
      ]
    },
    {
      "cell_type": "code",
      "execution_count": 27,
      "metadata": {},
      "outputs": [
        {
          "data": {
            "text/plain": [
              "22621"
            ]
          },
          "execution_count": 27,
          "metadata": {},
          "output_type": "execute_result"
        }
      ],
      "source": [
        "largest = max(df[\"lyrics\"], key=len)\n",
        "len(largest)"
      ]
    }
  ],
  "metadata": {
    "colab": {
      "provenance": []
    },
    "kernelspec": {
      "display_name": "Python 3",
      "name": "python3"
    },
    "language_info": {
      "codemirror_mode": {
        "name": "ipython",
        "version": 3
      },
      "file_extension": ".py",
      "mimetype": "text/x-python",
      "name": "python",
      "nbconvert_exporter": "python",
      "pygments_lexer": "ipython3",
      "version": "3.11.4"
    }
  },
  "nbformat": 4,
  "nbformat_minor": 0
}
